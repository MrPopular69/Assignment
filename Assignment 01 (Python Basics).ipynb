{
 "cells": [
  {
   "cell_type": "markdown",
   "metadata": {},
   "source": [
    "# Part -1 Python Basics (Variables)\n"
   ]
  },
  {
   "cell_type": "markdown",
   "metadata": {},
   "source": [
    "1. Print Your Name with your Father name and Date of birth using suitable escape sequence charactor\n"
   ]
  },
  {
   "cell_type": "code",
   "execution_count": 1,
   "metadata": {},
   "outputs": [
    {
     "name": "stdout",
     "output_type": "stream",
     "text": [
      "Name:\tSyed Mubashir Hasan\n",
      "Father's Name:\tSyed Masood Hasan\n",
      "Date of Birth:\t29-11-2002\n"
     ]
    }
   ],
   "source": [
    "print(\"Name:\\tSyed Mubashir Hasan\\nFather's Name:\\tSyed Masood Hasan\\nDate of Birth:\\t29-11-2002\")\n"
   ]
  },
  {
   "cell_type": "markdown",
   "metadata": {},
   "source": [
    "2. Write your small bio using variables and print it using print function\n"
   ]
  },
  {
   "cell_type": "code",
   "execution_count": 2,
   "metadata": {},
   "outputs": [
    {
     "name": "stdout",
     "output_type": "stream",
     "text": [
      "My Name is: Syed Mubashir Hasan\n",
      "My Father's Name is: Syed Masood Hasan\n",
      "My Date of Birth is: 29-11-2002\n",
      "My Education is: Bachelor's in Computer Science\n",
      "My Hobby is: Coding\n"
     ]
    }
   ],
   "source": [
    "# Defining variables\n",
    "name = \"Syed Mubashir Hasan\"\n",
    "father_name = \"Syed Masood Hasan\"\n",
    "dob = \"29-11-2002\"\n",
    "education = \"Bachelor's in Computer Science\"\n",
    "hobby = \"Coding\"\n",
    "\n",
    "# Printing the bio\n",
    "print(\"My Name is:\", name)\n",
    "print(\"My Father's Name is:\", father_name)\n",
    "print(\"My Date of Birth is:\", dob)\n",
    "print(\"My Education is:\", education)\n",
    "print(\"My Hobby is:\", hobby)\n"
   ]
  },
  {
   "cell_type": "markdown",
   "metadata": {},
   "source": [
    "3. Write a program in which use all the operators we can use in Python\n"
   ]
  },
  {
   "cell_type": "code",
   "execution_count": 3,
   "metadata": {},
   "outputs": [
    {
     "name": "stdout",
     "output_type": "stream",
     "text": [
      "Arithmetic Operators:\n",
      "Addition: 13\n",
      "Subtraction: 7\n",
      "Multiplication: 30\n",
      "Division: 3.3333333333333335\n",
      "Floor Division: 3\n",
      "Modulus: 1\n",
      "Exponentiation: 1000\n",
      "\n",
      "Assignment Operators:\n",
      "Initial x: 5\n",
      "x += 3: 8\n",
      "x -= 2: 6\n",
      "x *= 4: 24\n",
      "x /= 3: 8.0\n",
      "x %= 2: 0.0\n",
      "x **= 2: 25\n",
      "x //= 3: 8\n",
      "\n",
      "Comparison Operators:\n",
      "a == b: False\n",
      "a != b: True\n",
      "a > b: True\n",
      "a < b: False\n",
      "a >= b: True\n",
      "a <= b: False\n",
      "\n",
      "Logical Operators:\n",
      "True and False: False\n",
      "True or False: True\n",
      "not True: False\n",
      "\n",
      "Bitwise Operators:\n",
      "a & b: 2\n",
      "a | b: 11\n",
      "a ^ b: 9\n",
      "~a: -11\n",
      "a << 2: 40\n",
      "a >> 2: 2\n",
      "\n",
      "Identity Operators:\n",
      "x is y: True\n",
      "x is not y: False\n",
      "\n",
      "Membership Operators:\n",
      "3 in list1: True\n",
      "6 not in list1: True\n"
     ]
    }
   ],
   "source": [
    "# Arithmetic Operators\n",
    "a = 10\n",
    "b = 3\n",
    "print(\"Arithmetic Operators:\")\n",
    "print(\"Addition:\", a + b)\n",
    "print(\"Subtraction:\", a - b)\n",
    "print(\"Multiplication:\", a * b)\n",
    "print(\"Division:\", a / b)\n",
    "print(\"Floor Division:\", a // b)\n",
    "print(\"Modulus:\", a % b)\n",
    "print(\"Exponentiation:\", a ** b)\n",
    "\n",
    "# Assignment Operators\n",
    "print(\"\\nAssignment Operators:\")\n",
    "x = 5\n",
    "print(\"Initial x:\", x)\n",
    "x += 3\n",
    "print(\"x += 3:\", x)\n",
    "x -= 2\n",
    "print(\"x -= 2:\", x)\n",
    "x *= 4\n",
    "print(\"x *= 4:\", x)\n",
    "x /= 3\n",
    "print(\"x /= 3:\", x)\n",
    "x %= 2\n",
    "print(\"x %= 2:\", x)\n",
    "x = 5\n",
    "x **= 2\n",
    "print(\"x **= 2:\", x)\n",
    "x //= 3\n",
    "print(\"x //= 3:\", x)\n",
    "\n",
    "# Comparison Operators\n",
    "print(\"\\nComparison Operators:\")\n",
    "print(\"a == b:\", a == b)\n",
    "print(\"a != b:\", a != b)\n",
    "print(\"a > b:\", a > b)\n",
    "print(\"a < b:\", a < b)\n",
    "print(\"a >= b:\", a >= b)\n",
    "print(\"a <= b:\", a <= b)\n",
    "\n",
    "# Logical Operators\n",
    "print(\"\\nLogical Operators:\")\n",
    "print(\"True and False:\", True and False)\n",
    "print(\"True or False:\", True or False)\n",
    "print(\"not True:\", not True)\n",
    "\n",
    "# Bitwise Operators\n",
    "print(\"\\nBitwise Operators:\")\n",
    "print(\"a & b:\", a & b)\n",
    "print(\"a | b:\", a | b)\n",
    "print(\"a ^ b:\", a ^ b)\n",
    "print(\"~a:\", ~a)\n",
    "print(\"a << 2:\", a << 2)\n",
    "print(\"a >> 2:\", a >> 2)\n",
    "\n",
    "# Identity Operators\n",
    "print(\"\\nIdentity Operators:\")\n",
    "x = 10\n",
    "y = 10\n",
    "print(\"x is y:\", x is y)\n",
    "print(\"x is not y:\", x is not y)\n",
    "\n",
    "# Membership Operators\n",
    "print(\"\\nMembership Operators:\")\n",
    "list1 = [1, 2, 3, 4, 5]\n",
    "print(\"3 in list1:\", 3 in list1)\n",
    "print(\"6 not in list1:\", 6 not in list1)\n"
   ]
  },
  {
   "cell_type": "markdown",
   "metadata": {},
   "source": [
    "4. Completes the following steps of small task:\n",
    "   - Mention Marks of English , Islamiat and Maths out of 100 in 3 different variables\n",
    "   - Mention Variable of Total Marks and assign 300 to it\n",
    "   - Calculate Percentage\n"
   ]
  },
  {
   "cell_type": "code",
   "execution_count": 4,
   "metadata": {},
   "outputs": [
    {
     "name": "stdout",
     "output_type": "stream",
     "text": [
      "Marks in English: 85\n",
      "Marks in Islamiat: 75\n",
      "Marks in Maths: 90\n",
      "Total Marks: 300\n",
      "Obtained Marks: 250\n",
      "Percentage: 83.33333333333334 %\n"
     ]
    }
   ],
   "source": [
    "# Step 1: Mention Marks\n",
    "english_marks = 85\n",
    "islamiat_marks = 75\n",
    "maths_marks = 90\n",
    "\n",
    "# Step 2: Total Marks\n",
    "total_marks = 300\n",
    "\n",
    "# Step 3: Calculate Percentage\n",
    "obtained_marks = english_marks + islamiat_marks + maths_marks\n",
    "percentage = (obtained_marks / total_marks) * 100\n",
    "\n",
    "# Print Results\n",
    "print(\"Marks in English:\", english_marks)\n",
    "print(\"Marks in Islamiat:\", islamiat_marks)\n",
    "print(\"Marks in Maths:\", maths_marks)\n",
    "print(\"Total Marks:\", total_marks)\n",
    "print(\"Obtained Marks:\", obtained_marks)\n",
    "print(\"Percentage:\", percentage, \"%\")\n"
   ]
  },
  {
   "cell_type": "markdown",
   "metadata": {},
   "source": [
    "# Part -2 Python Basics (Conditional Statements)\n"
   ]
  },
  {
   "cell_type": "markdown",
   "metadata": {},
   "source": [
    "1. A company decided to give bonus of 5% to employee if his/her year of service is more than 5 years.\n",
    "   Ask user for their salary and year of service and print the net bonus amount.\n"
   ]
  },
  {
   "cell_type": "code",
   "execution_count": 5,
   "metadata": {},
   "outputs": [
    {
     "name": "stdout",
     "output_type": "stream",
     "text": [
      "Sorry! You are not eligible for a bonus.\n"
     ]
    }
   ],
   "source": [
    "# Taking input from the user\n",
    "salary = float(input(\"Enter your salary: \"))\n",
    "years_of_service = int(input(\"Enter your years of service: \"))\n",
    "\n",
    "# Checking if years of service is more than 5\n",
    "if years_of_service > 5:\n",
    "    bonus = salary * 0.05\n",
    "    print(\"Congratulations! You are eligible for a bonus.\")\n",
    "    print(\"Your bonus amount is:\", bonus)\n",
    "else:\n",
    "    print(\"Sorry! You are not eligible for a bonus.\")\n"
   ]
  },
  {
   "cell_type": "markdown",
   "metadata": {},
   "source": [
    "2. Write a program to check whether a person is eligible for voting or not. (accept age from user) if age is greater than 17 eligible otherwise not eligible\n"
   ]
  },
  {
   "cell_type": "code",
   "execution_count": 6,
   "metadata": {},
   "outputs": [
    {
     "name": "stdout",
     "output_type": "stream",
     "text": [
      "You are eligible to vote. ✅\n"
     ]
    }
   ],
   "source": [
    "# Taking input from the user\n",
    "age = int(input(\"Enter your age: \"))\n",
    "\n",
    "# Checking voting eligibility\n",
    "if age > 17:\n",
    "    print(\"You are eligible to vote. ✅\")\n",
    "else:\n",
    "    print(\"Sorry! You are not eligible to vote. ❌\")"
   ]
  },
  {
   "cell_type": "markdown",
   "metadata": {},
   "source": [
    "3. Write a program to check whether a number entered by user is even or odd.\n"
   ]
  },
  {
   "cell_type": "code",
   "execution_count": 7,
   "metadata": {},
   "outputs": [
    {
     "name": "stdout",
     "output_type": "stream",
     "text": [
      "8 is an Even number. ✅\n"
     ]
    }
   ],
   "source": [
    "# Taking input from the user\n",
    "num = int(input(\"Enter a number: \"))\n",
    "\n",
    "# Checking even or odd\n",
    "if num % 2 == 0:\n",
    "    print(f\"{num} is an Even number. ✅\")\n",
    "else:\n",
    "    print(f\"{num} is an Odd number. ❌\")\n"
   ]
  },
  {
   "cell_type": "markdown",
   "metadata": {},
   "source": [
    "4. Write a program to check whether a number is divisible by 7 or not.\n",
    "   Show Answer\n"
   ]
  },
  {
   "cell_type": "code",
   "execution_count": 8,
   "metadata": {},
   "outputs": [
    {
     "name": "stdout",
     "output_type": "stream",
     "text": [
      "21 is divisible by 7. ✅\n"
     ]
    }
   ],
   "source": [
    "# Taking input from the user\n",
    "num = int(input(\"Enter a number: \"))\n",
    "\n",
    "# Checking divisibility by 7\n",
    "if num % 7 == 0:\n",
    "    print(f\"{num} is divisible by 7. ✅\")\n",
    "else:\n",
    "    print(f\"{num} is NOT divisible by 7. ❌\")\n"
   ]
  },
  {
   "cell_type": "markdown",
   "metadata": {},
   "source": [
    "5. Write a program to display\n",
    "   \"Hello\" if a number entered by user is a multiple of five , otherwise print \"Bye\".\n"
   ]
  },
  {
   "cell_type": "code",
   "execution_count": 9,
   "metadata": {},
   "outputs": [
    {
     "name": "stdout",
     "output_type": "stream",
     "text": [
      "Hello ✅\n"
     ]
    }
   ],
   "source": [
    "# Taking input from the user\n",
    "num = int(input(\"Enter a number: \"))\n",
    "\n",
    "# Checking if the number is a multiple of 5\n",
    "if num % 5 == 0:\n",
    "    print(\"Hello ✅\")\n",
    "else:\n",
    "    print(\"Bye ❌\")"
   ]
  },
  {
   "cell_type": "markdown",
   "metadata": {},
   "source": [
    "7. Write a program to display the last digit of a number.\n"
   ]
  },
  {
   "cell_type": "code",
   "execution_count": 11,
   "metadata": {},
   "outputs": [
    {
     "name": "stdout",
     "output_type": "stream",
     "text": [
      "The last digit of the number is: 4\n"
     ]
    }
   ],
   "source": [
    "# Taking input from the user\n",
    "num = int(input(\"Enter a number: \"))\n",
    "\n",
    "# Extracting the last digit using modulus operator\n",
    "last_digit = num % 10\n",
    "\n",
    "# Displaying the last digit\n",
    "print(\"The last digit of the number is:\", last_digit)"
   ]
  },
  {
   "cell_type": "markdown",
   "metadata": {},
   "source": [
    "9. Take values of length and breadth of a rectangle from user and print if it is square or rectangle.\n"
   ]
  },
  {
   "cell_type": "code",
   "execution_count": 13,
   "metadata": {},
   "outputs": [
    {
     "name": "stdout",
     "output_type": "stream",
     "text": [
      "It is a Rectangle. ▭\n"
     ]
    }
   ],
   "source": [
    "# Taking input from the user\n",
    "length = float(input(\"Enter the length: \"))\n",
    "breadth = float(input(\"Enter the breadth: \"))\n",
    "\n",
    "# Checking if it is a square or rectangle\n",
    "if length == breadth:\n",
    "    print(\"It is a Square. 🟥\")\n",
    "else:\n",
    "    print(\"It is a Rectangle. ▭\")"
   ]
  },
  {
   "cell_type": "markdown",
   "metadata": {},
   "source": [
    "10. Take two int values from user and print greatest among them.\n"
   ]
  },
  {
   "cell_type": "code",
   "execution_count": 14,
   "metadata": {},
   "outputs": [
    {
     "name": "stdout",
     "output_type": "stream",
     "text": [
      "The greatest number is: 69\n"
     ]
    }
   ],
   "source": [
    "# Taking two integer inputs from the user\n",
    "num1 = int(input(\"Enter first number: \"))\n",
    "num2 = int(input(\"Enter second number: \"))\n",
    "\n",
    "# Checking which number is greater\n",
    "if num1 > num2:\n",
    "    print(f\"The greatest number is: {num1}\")\n",
    "elif num2 > num1:\n",
    "    print(f\"The greatest number is: {num2}\")\n",
    "else:\n",
    "    print(\"Both numbers are equal.\")\n"
   ]
  },
  {
   "cell_type": "markdown",
   "metadata": {},
   "source": [
    "11. A shop will give discount of 10% if the cost of purchased quantity is more than 1000.\n",
    "    Ask user for quantity\n",
    "    Suppose, one unit will cost 100.\n",
    "    Judge and print total cost for user.\n"
   ]
  },
  {
   "cell_type": "code",
   "execution_count": 16,
   "metadata": {},
   "outputs": [
    {
     "name": "stdout",
     "output_type": "stream",
     "text": [
      "Discount applied: ₹200.0\n",
      "Total cost after discount (if any): ₹1800.0\n"
     ]
    }
   ],
   "source": [
    "# Taking input from the user\n",
    "quantity = int(input(\"Enter the quantity of items: \"))\n",
    "\n",
    "# Cost per unit\n",
    "unit_price = 100\n",
    "\n",
    "# Calculating total cost\n",
    "total_cost = quantity * unit_price\n",
    "\n",
    "# Applying discount if total cost is more than 1000\n",
    "if total_cost > 1000:\n",
    "    discount = total_cost * 0.10  # 10% discount\n",
    "    total_cost -= discount\n",
    "    print(f\"Discount applied: ₹{discount}\")\n",
    "\n",
    "# Printing final total cost\n",
    "print(f\"Total cost after discount (if any): ₹{total_cost}\")\n"
   ]
  },
  {
   "cell_type": "markdown",
   "metadata": {},
   "source": [
    "12. A school has following rules for grading system:\n",
    "\n",
    "a. Below 25 - F\n",
    "\n",
    "b. 25 to 45 - E\n",
    "\n",
    "c. 45 to 50 - D\n",
    "\n",
    "d. 50 to 60 - C\n",
    "\n",
    "e. 60 to 80 - B\n",
    "\n",
    "f. Above 80 - A\n",
    "\n",
    "Ask user to enter marks and print the corresponding grade.\n"
   ]
  },
  {
   "cell_type": "code",
   "execution_count": 19,
   "metadata": {},
   "outputs": [
    {
     "name": "stdout",
     "output_type": "stream",
     "text": [
      "Your grade is: A\n"
     ]
    }
   ],
   "source": [
    "# Taking input from the user\n",
    "marks = int(input(\"Enter your marks: \"))\n",
    "\n",
    "# Checking the grade based on marks\n",
    "if marks < 25:\n",
    "    grade = \"F\"\n",
    "elif 25 <= marks < 45:\n",
    "    grade = \"E\"\n",
    "elif 45 <= marks < 50:\n",
    "    grade = \"D\"\n",
    "elif 50 <= marks < 60:\n",
    "    grade = \"C\"\n",
    "elif 60 <= marks < 80:\n",
    "    grade = \"B\"\n",
    "else:\n",
    "    grade = \"A\"\n",
    "\n",
    "# Printing the grade\n",
    "print(f\"Your grade is: {grade}\")\n"
   ]
  },
  {
   "cell_type": "markdown",
   "metadata": {},
   "source": [
    "14)A student will not be allowed to sit in exam if his/her attendence is less than 75%.\n",
    "\n",
    "Take following input from user\n",
    "\n",
    "- Number of classes held\n",
    "\n",
    "- Number of classes attended.\n",
    "\n",
    "And print\n",
    "\n",
    "- percentage of class attended\n",
    "\n",
    "- Is student is allowed to sit in exam or not.\n"
   ]
  },
  {
   "cell_type": "code",
   "execution_count": 20,
   "metadata": {},
   "outputs": [
    {
     "name": "stdout",
     "output_type": "stream",
     "text": [
      "Attendance Percentage: 80.00%\n",
      "You are allowed to sit in the exam. ✅\n"
     ]
    }
   ],
   "source": [
    "# Taking input from the user\n",
    "classes_held = int(input(\"Enter the total number of classes held: \"))\n",
    "classes_attended = int(input(\"Enter the number of classes attended: \"))\n",
    "\n",
    "# Calculating attendance percentage\n",
    "attendance_percentage = (classes_attended / classes_held) * 100\n",
    "\n",
    "# Printing attendance percentage\n",
    "print(f\"Attendance Percentage: {attendance_percentage:.2f}%\")\n",
    "\n",
    "# Checking eligibility for the exam\n",
    "if attendance_percentage >= 75:\n",
    "    print(\"You are allowed to sit in the exam. ✅\")\n",
    "else:\n",
    "    print(\"Sorry! You are NOT allowed to sit in the exam. ❌\")\n"
   ]
  },
  {
   "cell_type": "markdown",
   "metadata": {},
   "source": [
    "15. Modify the above question to allow student to sit if he/she has medical cause. Ask user if he/she has medical cause or not ( 'Y' or 'N' ) and print accordingly.\n"
   ]
  },
  {
   "cell_type": "code",
   "execution_count": 22,
   "metadata": {},
   "outputs": [
    {
     "name": "stdout",
     "output_type": "stream",
     "text": [
      "Attendance Percentage: 50.00%\n",
      "You are allowed to sit in the exam due to medical reasons. ✅\n"
     ]
    }
   ],
   "source": [
    "# Taking input from the user\n",
    "classes_held = int(input(\"Enter the total number of classes held: \"))\n",
    "classes_attended = int(input(\"Enter the number of classes attended: \"))\n",
    "\n",
    "# Calculating attendance percentage\n",
    "attendance_percentage = (classes_attended / classes_held) * 100\n",
    "\n",
    "# Printing attendance percentage\n",
    "print(f\"Attendance Percentage: {attendance_percentage:.2f}%\")\n",
    "\n",
    "# Checking eligibility for the exam\n",
    "if attendance_percentage >= 75:\n",
    "    print(\"You are allowed to sit in the exam. ✅\")\n",
    "else:\n",
    "    # Asking if the student has a medical cause\n",
    "    medical_cause = input(\"Do you have a medical cause? (Y/N): \").strip().upper()\n",
    "\n",
    "    if medical_cause == \"Y\":\n",
    "        print(\"You are allowed to sit in the exam due to medical reasons. ✅\")\n",
    "    else:\n",
    "        print(\"Sorry! You are NOT allowed to sit in the exam. ❌\")\n"
   ]
  },
  {
   "cell_type": "markdown",
   "metadata": {},
   "source": [
    "16. Write a program to check if a year is leap year or not.\n",
    "\n",
    "If a year is divisible by 4 then it is leap year but if the year is century year like 2000, 1900, 2100 then it must be divisible by 400.\n"
   ]
  },
  {
   "cell_type": "code",
   "execution_count": 25,
   "metadata": {},
   "outputs": [
    {
     "name": "stdout",
     "output_type": "stream",
     "text": [
      "2024 is a Leap Year. ✅\n"
     ]
    }
   ],
   "source": [
    "# Taking input from the user\n",
    "year = int(input(\"Enter a year: \"))\n",
    "\n",
    "# Checking if the year is a leap year\n",
    "if (year % 4 == 0 and year % 100 != 0) or (year % 400 == 0):\n",
    "    print(f\"{year} is a Leap Year. ✅\")\n",
    "else:\n",
    "    print(f\"{year} is NOT a Leap Year. ❌\")\n"
   ]
  },
  {
   "cell_type": "markdown",
   "metadata": {},
   "source": [
    "17. Ask user to enter age, gender ( M or F ), marital status ( Y or N ) and then using following rules print their place of service.\n",
    "\n",
    "if employee is female, then she will work only in urban areas.\n",
    "\n",
    "if employee is a male and age is in between 20 to 40 then he may work in anywhere\n",
    "\n",
    "if employee is male and age is in between 40 t0 60 then he will work in urban areas only.\n",
    "\n",
    "And any other input of age should print \"ERROR\"\n"
   ]
  },
  {
   "cell_type": "code",
   "execution_count": 27,
   "metadata": {},
   "outputs": [
    {
     "name": "stdout",
     "output_type": "stream",
     "text": [
      "You may work anywhere. 🌍\n"
     ]
    }
   ],
   "source": [
    "# Taking input from the user\n",
    "age = int(input(\"Enter your age: \"))\n",
    "gender = input(\"Enter your gender (M/F): \").strip().upper()\n",
    "marital_status = input(\"Are you married? (Y/N): \").strip().upper()\n",
    "\n",
    "# Checking conditions based on given rules\n",
    "if gender == \"F\":\n",
    "    print(\"You will work only in urban areas. 🏙️\")\n",
    "elif gender == \"M\":\n",
    "    if 20 <= age <= 40:\n",
    "        print(\"You may work anywhere. 🌍\")\n",
    "    elif 40 < age <= 60:\n",
    "        print(\"You will work only in urban areas. 🏙️\")\n",
    "    else:\n",
    "        print(\"ERROR: Invalid age input! ❌\")\n",
    "else:\n",
    "    print(\"ERROR: Invalid gender input! ❌\")\n"
   ]
  },
  {
   "cell_type": "markdown",
   "metadata": {},
   "source": [
    "6. Write a program to calculate the electricity bill (accept number of unit from user) according to the following criteria :\n",
    "   Unit Price  \n",
    "   uptp 100 units no charge\n",
    "   Next 200 units Rs 5 per unit\n",
    "   After 200 units Rs 10 per unit\n",
    "   (For example if input unit is 350 than total bill amount is Rs.3500\n",
    "   (For example if input unit is 97 than total bill amount is Rs.0\n",
    "   (For example if input unit is 150 than total bill amount is Rs.750\n"
   ]
  },
  {
   "cell_type": "code",
   "execution_count": 28,
   "metadata": {},
   "outputs": [
    {
     "name": "stdout",
     "output_type": "stream",
     "text": [
      "Total electricity bill: Rs. 2690\n"
     ]
    }
   ],
   "source": [
    "# Taking input from the user\n",
    "units = int(input(\"Enter the number of units consumed: \"))\n",
    "\n",
    "# Initializing the bill amount\n",
    "bill = 0\n",
    "\n",
    "# Calculating the electricity bill based on the given rules\n",
    "if units <= 100:\n",
    "    bill = 0  # No charge for up to 100 units\n",
    "elif units <= 300:\n",
    "    bill = (units - 100) * 5  # Rs. 5 per unit for next 200 units\n",
    "else:\n",
    "    bill = (200 * 5) + (units - 300) * 10  # Rs. 5 for 101-300 units, Rs. 10 after 300 units\n",
    "\n",
    "# Printing the total bill amount\n",
    "print(f\"Total electricity bill: Rs. {bill}\")\n"
   ]
  },
  {
   "cell_type": "markdown",
   "metadata": {},
   "source": [
    "13. Take input of age of 3 people by user and determine oldest and youngest among them.\n"
   ]
  },
  {
   "cell_type": "code",
   "execution_count": 29,
   "metadata": {},
   "outputs": [
    {
     "name": "stdout",
     "output_type": "stream",
     "text": [
      "The oldest person is 40 years old.\n",
      "The youngest person is 25 years old.\n"
     ]
    }
   ],
   "source": [
    "# Taking input of ages from the user\n",
    "age1 = int(input(\"Enter the age of first person: \"))\n",
    "age2 = int(input(\"Enter the age of second person: \"))\n",
    "age3 = int(input(\"Enter the age of third person: \"))\n",
    "\n",
    "# Finding the oldest person\n",
    "oldest = max(age1, age2, age3)\n",
    "\n",
    "# Finding the youngest person\n",
    "youngest = min(age1, age2, age3)\n",
    "\n",
    "# Displaying results\n",
    "print(f\"The oldest person is {oldest} years old.\")\n",
    "print(f\"The youngest person is {youngest} years old.\")\n"
   ]
  }
 ],
 "metadata": {
  "kernelspec": {
   "display_name": "Python (myenv)",
   "language": "python",
   "name": "myenv"
  },
  "language_info": {
   "codemirror_mode": {
    "name": "ipython",
    "version": 3
   },
   "file_extension": ".py",
   "mimetype": "text/x-python",
   "name": "python",
   "nbconvert_exporter": "python",
   "pygments_lexer": "ipython3",
   "version": "3.10.16"
  }
 },
 "nbformat": 4,
 "nbformat_minor": 2
}
