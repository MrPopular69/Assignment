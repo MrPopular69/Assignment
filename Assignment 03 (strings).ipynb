{
 "cells": [
  {
   "cell_type": "markdown",
   "metadata": {},
   "source": [
    "1. Write a program that accepts a string from user. Your program should count and display number of vowels in that string."
   ]
  },
  {
   "cell_type": "code",
   "execution_count": 2,
   "metadata": {},
   "outputs": [
    {
     "name": "stdout",
     "output_type": "stream",
     "text": [
      "Number of vowels in the string: 4\n"
     ]
    }
   ],
   "source": [
    "# Taking input from the user\n",
    "user_string = input(\"Enter a string: \")\n",
    "\n",
    "# Defining vowels\n",
    "vowels = \"AEIOUaeiou\"\n",
    "\n",
    "# Counting the number of vowels\n",
    "vowel_count = sum(1 for char in user_string if char in vowels)\n",
    "\n",
    "# Displaying the result\n",
    "print(f\"Number of vowels in the string: {vowel_count}\")\n"
   ]
  },
  {
   "cell_type": "markdown",
   "metadata": {},
   "source": [
    "2. Write a program that reads a string from keyboard and display:\n",
    "* The number of uppercase letters in the string\n",
    "* The number of lowercase letters in the string\n",
    "* The number of digits in the string\n",
    "* The number of whitespace characters in the string"
   ]
  },
  {
   "cell_type": "code",
   "execution_count": 3,
   "metadata": {},
   "outputs": [
    {
     "name": "stdout",
     "output_type": "stream",
     "text": [
      "Uppercase letters: 2\n",
      "Lowercase letters: 8\n",
      "Digits: 3\n",
      "Whitespace characters: 2\n"
     ]
    }
   ],
   "source": [
    "# Taking input from the user\n",
    "user_string = input(\"Enter a string: \")\n",
    "\n",
    "# Initializing counters\n",
    "uppercase_count = sum(1 for char in user_string if char.isupper())\n",
    "lowercase_count = sum(1 for char in user_string if char.islower())\n",
    "digit_count = sum(1 for char in user_string if char.isdigit())\n",
    "whitespace_count = sum(1 for char in user_string if char.isspace())\n",
    "\n",
    "# Displaying the results\n",
    "print(f\"Uppercase letters: {uppercase_count}\")\n",
    "print(f\"Lowercase letters: {lowercase_count}\")\n",
    "print(f\"Digits: {digit_count}\")\n",
    "print(f\"Whitespace characters: {whitespace_count}\")"
   ]
  },
  {
   "cell_type": "markdown",
   "metadata": {},
   "source": [
    "3. Write a Python program that accepts a string from user. Your program should create and display a\n",
    "new string where the first and last characters have been exchanged.\n",
    "\n",
    "For example if the user enters the string 'HELLO' then new string would be 'OELLH'"
   ]
  },
  {
   "cell_type": "code",
   "execution_count": 4,
   "metadata": {},
   "outputs": [
    {
     "name": "stdout",
     "output_type": "stream",
     "text": [
      "New string after swapping first and last character: OELLH\n"
     ]
    }
   ],
   "source": [
    "# Taking input from the user\n",
    "user_string = input(\"Enter a string: \")\n",
    "\n",
    "# Checking if the string length is at least 2\n",
    "if len(user_string) >= 2:\n",
    "    # Swapping the first and last characters\n",
    "    new_string = user_string[-1] + user_string[1:-1] + user_string[0]\n",
    "else:\n",
    "    # If string length is 1 or empty, return as is\n",
    "    new_string = user_string  \n",
    "\n",
    "# Displaying the new string\n",
    "print(f\"New string after swapping first and last character: {new_string}\")"
   ]
  },
  {
   "cell_type": "markdown",
   "metadata": {},
   "source": [
    "4. Write a Python program that accepts a string from user. Your program should create a new string in\n",
    "reverse of first string and display it.\n",
    "\n",
    "For example if the user enters the string 'EXAM' then new string would be 'MAXE'"
   ]
  },
  {
   "cell_type": "code",
   "execution_count": 5,
   "metadata": {},
   "outputs": [
    {
     "name": "stdout",
     "output_type": "stream",
     "text": [
      "Reversed string: MAXE\n"
     ]
    }
   ],
   "source": [
    "# Taking input from the user\n",
    "user_string = input(\"Enter a string: \")\n",
    "\n",
    "# Reversing the string\n",
    "reversed_string = user_string[::-1]\n",
    "\n",
    "# Displaying the reversed string\n",
    "print(f\"Reversed string: {reversed_string}\")"
   ]
  },
  {
   "cell_type": "markdown",
   "metadata": {},
   "source": [
    "5. Write a Python program that accepts a string from user. Your program should create a new string by\n",
    "shifting one position to left.\n",
    "\n",
    "For example if the user enters the string 'examination 2021' then new string would be 'xamination\n",
    "2021e'"
   ]
  },
  {
   "cell_type": "code",
   "execution_count": 6,
   "metadata": {},
   "outputs": [
    {
     "name": "stdout",
     "output_type": "stream",
     "text": [
      "New string after left shift: xamination 2021e\n"
     ]
    }
   ],
   "source": [
    "# Taking input from the user\n",
    "user_string = input(\"Enter a string: \")\n",
    "\n",
    "# Checking if the string has at least 2 characters\n",
    "if len(user_string) > 1:\n",
    "    # Shifting the first character to the end\n",
    "    shifted_string = user_string[1:] + user_string[0]\n",
    "else:\n",
    "    # If string has only one character or is empty, return as is\n",
    "    shifted_string = user_string\n",
    "\n",
    "# Displaying the shifted string\n",
    "print(f\"New string after left shift: {shifted_string}\")"
   ]
  },
  {
   "cell_type": "markdown",
   "metadata": {},
   "source": [
    "6. Write a program that asks the user to input his name and print its initials. Assuming that the user\n",
    "always types first name, middle name and last name and does not include any unnecessary spaces.\n",
    "\n",
    "For example, if the user enters Ajay Kumar Garg the program should display A. K. G.\n",
    "Note:Don't use split() method"
   ]
  },
  {
   "cell_type": "code",
   "execution_count": 7,
   "metadata": {},
   "outputs": [
    {
     "name": "stdout",
     "output_type": "stream",
     "text": [
      "Initials: A. K. G.\n"
     ]
    }
   ],
   "source": [
    "# Taking input from the user\n",
    "user_name = input(\"Enter your full name (First Middle Last): \")\n",
    "\n",
    "# Initializing an empty string for initials\n",
    "initials = \"\"\n",
    "\n",
    "# Traversing through the name\n",
    "is_new_word = True  # Flag to detect the start of a new word\n",
    "\n",
    "for char in user_name:\n",
    "    if is_new_word and char.isalpha():  # Checking if the character is a letter\n",
    "        initials += char.upper() + \". \"  # Adding uppercase initial with a dot\n",
    "        is_new_word = False  # Reset flag to avoid multiple initials in a word\n",
    "    elif char == \" \":  # If space is found, next character will be an initial\n",
    "        is_new_word = True\n",
    "\n",
    "# Displaying the initials\n",
    "print(f\"Initials: {initials.strip()}\")  # Stripping extra spaces at the end"
   ]
  },
  {
   "cell_type": "markdown",
   "metadata": {},
   "source": [
    "7. A palindrome is a string that reads the same backward as forward. For example, the words dad,\n",
    "madam and radar are all palindromes. Write a programs that determines whether the string is a\n",
    "palindrome.\n",
    "\n",
    "Note: do not use reverse() method"
   ]
  },
  {
   "cell_type": "code",
   "execution_count": 8,
   "metadata": {},
   "outputs": [
    {
     "name": "stdout",
     "output_type": "stream",
     "text": [
      "The entered string is a palindrome!\n"
     ]
    }
   ],
   "source": [
    "# Taking input from the user\n",
    "user_string = input(\"Enter a string: \")\n",
    "\n",
    "# Converting to lowercase to make it case-insensitive\n",
    "user_string = user_string.lower()\n",
    "\n",
    "# Checking if the string is the same forward and backward\n",
    "is_palindrome = True\n",
    "length = len(user_string)\n",
    "\n",
    "for i in range(length // 2):  # Looping only half of the string\n",
    "    if user_string[i] != user_string[length - i - 1]:\n",
    "        is_palindrome = False\n",
    "        break  # Exit loop if mismatch found\n",
    "\n",
    "# Displaying the result\n",
    "if is_palindrome:\n",
    "    print(\"The entered string is a palindrome!\")\n",
    "else:\n",
    "    print(\"The entered string is NOT a palindrome!\")"
   ]
  },
  {
   "cell_type": "markdown",
   "metadata": {},
   "source": [
    "8. Write a program that display following output:\n",
    "\n",
    "SHIFT\n",
    "\n",
    "HIFTS\n",
    "\n",
    "IFTSH\n",
    "\n",
    "FTSHI\n",
    "\n",
    "TSHIF\n",
    "\n",
    "SHIFT"
   ]
  },
  {
   "cell_type": "code",
   "execution_count": 9,
   "metadata": {},
   "outputs": [
    {
     "name": "stdout",
     "output_type": "stream",
     "text": [
      "SHIFT\n",
      "HIFTS\n",
      "IFTSH\n",
      "FTSHI\n",
      "TSHIF\n"
     ]
    }
   ],
   "source": [
    "# Define the word\n",
    "word = \"SHIFT\"\n",
    "\n",
    "# Loop to print the cyclic shifts\n",
    "for i in range(len(word)):\n",
    "    print(word[i:] + word[:i])  # Shifting characters to the left\n"
   ]
  },
  {
   "cell_type": "markdown",
   "metadata": {},
   "source": [
    "9. Write a program in python that accepts a string to setup a passwords. Your entered password must meet the following requirements:\n",
    "\n",
    "The password must be at least eight characters long.\n",
    "\n",
    "It must contain at least one uppercase letter.\n",
    "\n",
    "It must contain at least one lowercase letter.\n",
    "\n",
    "It must contain at least one numeric digit.\n",
    "\n",
    "Your program should should perform this validation."
   ]
  },
  {
   "cell_type": "code",
   "execution_count": 10,
   "metadata": {},
   "outputs": [
    {
     "name": "stdout",
     "output_type": "stream",
     "text": [
      "Password must contain at least one uppercase letter, one lowercase letter, and one digit.\n"
     ]
    }
   ],
   "source": [
    "# Function to validate password\n",
    "def is_valid_password(password):\n",
    "    # Checking the length\n",
    "    if len(password) < 8:\n",
    "        return \"Password must be at least 8 characters long.\"\n",
    "\n",
    "    # Initializing flags\n",
    "    has_upper = False\n",
    "    has_lower = False\n",
    "    has_digit = False\n",
    "\n",
    "    # Checking each character in password\n",
    "    for char in password:\n",
    "        if char.isupper():\n",
    "            has_upper = True\n",
    "        elif char.islower():\n",
    "            has_lower = True\n",
    "        elif char.isdigit():\n",
    "            has_digit = True\n",
    "\n",
    "    # Final validation\n",
    "    if has_upper and has_lower and has_digit:\n",
    "        return \"Password is valid!\"\n",
    "    else:\n",
    "        return \"Password must contain at least one uppercase letter, one lowercase letter, and one digit.\"\n",
    "\n",
    "# Taking user input\n",
    "user_password = input(\"Enter a password: \")\n",
    "\n",
    "# Validating the password\n",
    "result = is_valid_password(user_password)\n",
    "print(result)"
   ]
  }
 ],
 "metadata": {
  "kernelspec": {
   "display_name": "Python (myenv)",
   "language": "python",
   "name": "myenv"
  },
  "language_info": {
   "codemirror_mode": {
    "name": "ipython",
    "version": 3
   },
   "file_extension": ".py",
   "mimetype": "text/x-python",
   "name": "python",
   "nbconvert_exporter": "python",
   "pygments_lexer": "ipython3",
   "version": "3.10.16"
  }
 },
 "nbformat": 4,
 "nbformat_minor": 2
}
